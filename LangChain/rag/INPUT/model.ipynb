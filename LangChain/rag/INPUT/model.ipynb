{
 "cells": [
  {
   "cell_type": "code",
   "execution_count": null,
   "id": "cbe5d63c",
   "metadata": {},
   "outputs": [],
   "source": [
    "import os\n",
    "from dotenv import load_dotenv\n",
    "import openai\n",
    "import langchain\n",
    "from langchain_community.llms import openai\n",
    "\n",
    "\n",
    "\n",
    "load_dotenv()\n",
    "\n",
    "api=os.getenv('open_api_key')\n",
    "\n",
    "llms=openai(temperature=0.9,open_api_key=api)\n",
    "predict=llms.predict('ugggest me a best place to visit')\n",
    "print(response)\n",
    "\n"
   ]
  }
 ],
 "metadata": {
  "language_info": {
   "name": "python"
  }
 },
 "nbformat": 4,
 "nbformat_minor": 5
}
