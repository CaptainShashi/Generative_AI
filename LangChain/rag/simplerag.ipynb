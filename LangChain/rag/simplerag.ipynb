{
 "cells": [
  {
   "cell_type": "code",
   "execution_count": 8,
   "id": "76cd8960",
   "metadata": {},
   "outputs": [
    {
     "data": {
      "text/plain": [
       "[Document(metadata={'source': 'speech.txt'}, page_content='Today, I want to speak about something simple, yet powerful â€” kindness.\\n\\nIn a world that often feels rushed and divided, a small act of kindness can make a big difference. A smile, a helping hand, or a few kind words can brighten someoneâ€™s day â€” and sometimes, even change a life.\\n\\nKindness doesnâ€™t cost anything, but its value is immeasurable. When we choose to be kind, we create a ripple effect that can spread far beyond what we see.\\n\\nSo letâ€™s make kindness a habit. Letâ€™s lift each other up and create a community where everyone feels seen, heard, and valued')]"
      ]
     },
     "execution_count": 8,
     "metadata": {},
     "output_type": "execute_result"
    }
   ],
   "source": [
    "## Data ingestion model -->from text documet\n",
    "\n",
    "from langchain_community.document_loaders import TextLoader\n",
    "\n",
    "loader=TextLoader('speech.txt')\n",
    "text_document=loader.load()   # converts into a text documents \n",
    "text_document"
   ]
  },
  {
   "cell_type": "code",
   "execution_count": 13,
   "id": "131a9ffa",
   "metadata": {},
   "outputs": [
    {
     "name": "stdout",
     "output_type": "stream",
     "text": [
      "\n",
      "\n",
      "\n",
      "\n",
      "\n",
      "From Wikipedia, the free encyclopedia\n",
      "\n",
      "\n",
      "Intelligence of machines\n",
      "\"AI\" redirects here. For other uses, see AI (disambiguation) and Artificial intelligence (disambiguation).\n",
      "\n",
      "\n",
      "Part of a series onArtificial intelligence (AI)\n",
      "Major goals\n",
      "Artificial general intelligence\n",
      "Intelligent agent\n",
      "Recursive self-improvement\n",
      "Planning\n",
      "Computer vision\n",
      "General game playing\n",
      "Knowledge representation\n",
      "Natural language processing\n",
      "Robotics\n",
      "AI safety\n",
      "\n",
      "Approaches\n",
      "Machine learning\n",
      "Symbolic\n",
      "Deep learning\n",
      "Bayesian netwo\n"
     ]
    }
   ],
   "source": [
    "from bs4 import SoupStrainer\n",
    "from langchain_community.document_loaders import WebBaseLoader\n",
    "\n",
    "loader = WebBaseLoader(\n",
    "    \"https://en.wikipedia.org/wiki/Artificial_intelligence\",\n",
    "    bs_kwargs=dict(\n",
    "        parse_only=SoupStrainer(\"div\", {\"id\": \"bodyContent\"})\n",
    "    )\n",
    ")\n",
    "docs = loader.load()\n",
    "print(docs[0].page_content[:500])"
   ]
  },
  {
   "cell_type": "code",
   "execution_count": 15,
   "id": "eb6c4815",
   "metadata": {},
   "outputs": [
    {
     "data": {
      "text/plain": [
       "[Document(metadata={'producer': 'Microsoft: Print To PDF', 'creator': 'PyPDF', 'creationdate': '2025-05-26T08:52:38+05:30', 'author': 'Shashikumar Amgoth (Muffins AI)', 'moddate': '2025-05-26T08:52:38+05:30', 'title': 'NMDC-Online Application 2025 (Kirandul_Bacheli Complex)', 'source': 'print.pdf', 'total_pages': 2, 'page': 0, 'page_label': '1'}, page_content=''),\n",
       " Document(metadata={'producer': 'Microsoft: Print To PDF', 'creator': 'PyPDF', 'creationdate': '2025-05-26T08:52:38+05:30', 'author': 'Shashikumar Amgoth (Muffins AI)', 'moddate': '2025-05-26T08:52:38+05:30', 'title': 'NMDC-Online Application 2025 (Kirandul_Bacheli Complex)', 'source': 'print.pdf', 'total_pages': 2, 'page': 1, 'page_label': '2'}, page_content='')]"
      ]
     },
     "execution_count": 15,
     "metadata": {},
     "output_type": "execute_result"
    }
   ],
   "source": [
    "## Reading from PDF\n",
    "\n",
    "from langchain_community.document_loaders import PyPDFLoader\n",
    "loader=PyPDFLoader('print.pdf')\n",
    "load_pdf=loader.load()\n",
    "load_pdf"
   ]
  },
  {
   "cell_type": "code",
   "execution_count": null,
   "id": "70cade99",
   "metadata": {},
   "outputs": [
    {
     "ename": "TypeError",
     "evalue": "can only concatenate str (not \"function\") to str",
     "output_type": "error",
     "traceback": [
      "\u001b[31m---------------------------------------------------------------------------\u001b[39m",
      "\u001b[31mTypeError\u001b[39m                                 Traceback (most recent call last)",
      "\u001b[36mCell\u001b[39m\u001b[36m \u001b[39m\u001b[32mIn[16]\u001b[39m\u001b[32m, line 7\u001b[39m\n\u001b[32m      5\u001b[39m base_url=\u001b[33mr\u001b[39m\u001b[33m\"\u001b[39m\u001b[33mC:\u001b[39m\u001b[33m\\\u001b[39m\u001b[33mUsers\u001b[39m\u001b[33m\\\u001b[39m\u001b[33mShashikumarAmgoth(Mu\u001b[39m\u001b[33m\\\u001b[39m\u001b[33mDesktop\u001b[39m\u001b[33m\\\u001b[39m\u001b[33mLangChain\u001b[39m\u001b[33m\\\u001b[39m\u001b[33mdummy\u001b[39m\u001b[33m\"\u001b[39m\n\u001b[32m      6\u001b[39m \u001b[38;5;28;01mfor\u001b[39;00m page \u001b[38;5;129;01min\u001b[39;00m base_url:\n\u001b[32m----> \u001b[39m\u001b[32m7\u001b[39m     \u001b[43mbase_url\u001b[49m\u001b[43m+\u001b[49m\u001b[43murl\u001b[49m\u001b[43m+\u001b[49m\u001b[43mos\u001b[49m\u001b[43m.\u001b[49m\u001b[43mpath\u001b[49m\u001b[43m.\u001b[49m\u001b[43mjoin\u001b[49m\n",
      "\u001b[31mTypeError\u001b[39m: can only concatenate str (not \"function\") to str"
     ]
    }
   ],
   "source": [
    "from langchain_community.document_loaders import PyPDFLoader\n",
    "import os\n",
    "\n",
    "url='/'\n",
    "base_url=r\"C:\\Users\\ShashikumarAmgoth(Mu\\Desktop\\LangChain\\dummy\"\n",
    "for page in base_url:\n",
    "    file=base_url+url+os.path.join(__file__)\n",
    "    loader=PyPDFLoader('file')\n",
    "    file_loaded-loader.load()\n",
    "    print(file_loaded)\n"
   ]
  },
  {
   "cell_type": "code",
   "execution_count": null,
   "id": "2486d14f",
   "metadata": {},
   "outputs": [],
   "source": [
    "import os \n",
    "from langchain_community.document_loaders import PyPDFLoader\n",
    "\n",
    "base_path = r\"C:\\Users\\ShashikumarAmgoth(Mu\\Desktop\\LangChain\\dummy\"\n",
    "\n",
    "document_list=[]\n",
    "\n",
    "for roor,dirs,files in os.walk(base_path):\n",
    "    for file in files:\n",
    "        if file.endswith(\".pdf\")\n",
    "        os.path.join(file,base_path)\n",
    "        "
   ]
  }
 ],
 "metadata": {
  "kernelspec": {
   "display_name": "Python 3",
   "language": "python",
   "name": "python3"
  },
  "language_info": {
   "codemirror_mode": {
    "name": "ipython",
    "version": 3
   },
   "file_extension": ".py",
   "mimetype": "text/x-python",
   "name": "python",
   "nbconvert_exporter": "python",
   "pygments_lexer": "ipython3",
   "version": "3.12.4"
  }
 },
 "nbformat": 4,
 "nbformat_minor": 5
}
