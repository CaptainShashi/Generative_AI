{
 "cells": [
  {
   "cell_type": "code",
   "execution_count": null,
   "id": "e4cde500",
   "metadata": {},
   "outputs": [],
   "source": [
    "import os \n",
    "import getpass\n",
    "\n",
    "if not os.environ.get['open_api_key']:\n",
    "    with open('dotenv',r) as file:\n",
    "        file.load()\n",
    "\n",
    "from langchain.chat_models import openai\n",
    "mod"
   ]
  },
  {
   "cell_type": "code",
   "execution_count": null,
   "id": "c7404f9f",
   "metadata": {},
   "outputs": [],
   "source": []
  },
  {
   "cell_type": "code",
   "execution_count": null,
   "id": "eca57bd3",
   "metadata": {},
   "outputs": [],
   "source": []
  }
 ],
 "metadata": {
  "language_info": {
   "name": "python"
  }
 },
 "nbformat": 4,
 "nbformat_minor": 5
}
